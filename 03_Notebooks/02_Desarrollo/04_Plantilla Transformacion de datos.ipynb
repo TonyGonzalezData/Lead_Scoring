{
 "cells": [
  {
   "cell_type": "markdown",
   "id": "d31dea65",
   "metadata": {},
   "source": [
    "# PLANTILLA TRANSFORMACIÓN DE DATOS"
   ]
  },
  {
   "cell_type": "markdown",
   "id": "a18ebc17",
   "metadata": {},
   "source": [
    "**IMPORTANTE**: Recuerda hacer una copia de esta plantilla para no machacar la original."
   ]
  },
  {
   "cell_type": "markdown",
   "id": "swiss-fault",
   "metadata": {},
   "source": [
    "## IMPORTAR PAQUETES"
   ]
  },
  {
   "cell_type": "code",
   "execution_count": 1,
   "id": "adjacent-toddler",
   "metadata": {},
   "outputs": [],
   "source": [
    "import numpy as np\n",
    "import pandas as pd\n",
    "import matplotlib.pyplot as plt\n",
    "%matplotlib inline\n",
    "from sklearn.preprocessing import OneHotEncoder\n",
    "from sklearn.preprocessing import OrdinalEncoder\n",
    "from sklearn.preprocessing import LabelEncoder\n",
    "from category_encoders import TargetEncoder\n",
    "from sklearn.preprocessing import KBinsDiscretizer\n",
    "from sklearn.preprocessing import Binarizer\n",
    "from sklearn.preprocessing import PowerTransformer\n",
    "from sklearn.preprocessing import QuantileTransformer\n",
    "from sklearn.feature_extraction.text import CountVectorizer\n",
    "from sklearn.feature_extraction.text import TfidfVectorizer\n",
    "from sklearn.preprocessing import MinMaxScaler\n",
    "from sklearn.preprocessing import StandardScaler\n",
    "from sklearn.preprocessing import RobustScaler\n",
    "from sklearn.preprocessing import MaxAbsScaler\n",
    "from imblearn.under_sampling import RandomUnderSampler\n",
    "from imblearn.over_sampling import RandomOverSampler\n",
    "\n",
    "#Automcompletar rápido\n",
    "%config IPCompleter.greedy=True"
   ]
  },
  {
   "cell_type": "markdown",
   "id": "graduate-compensation",
   "metadata": {},
   "source": [
    "## IMPORTAR LOS DATOS"
   ]
  },
  {
   "cell_type": "markdown",
   "id": "c3363765",
   "metadata": {},
   "source": [
    "2.- Nombrar los ficheros de datos."
   ]
  },
  {
   "cell_type": "code",
   "execution_count": 2,
   "id": "a9e2e04a",
   "metadata": {},
   "outputs": [],
   "source": [
    "nombre_cat = 'cat_resultado_eda.pickle'\n",
    "nombre_num = 'num_resultado_eda.pickle'"
   ]
  },
  {
   "cell_type": "markdown",
   "id": "b9825018",
   "metadata": {},
   "source": [
    "3.- Cargar los datos."
   ]
  },
  {
   "cell_type": "code",
   "execution_count": 3,
   "id": "cab6ebcd",
   "metadata": {},
   "outputs": [],
   "source": [
    "cat = pd.read_pickle( '../../02_Datos/03_Trabajo/' + nombre_cat).reset_index(drop = True)\n",
    "num = pd.read_pickle('../../02_Datos/03_Trabajo/' + nombre_num).reset_index(drop = True)"
   ]
  },
  {
   "cell_type": "markdown",
   "id": "a1350902",
   "metadata": {},
   "source": [
    "4.- Separar la target."
   ]
  },
  {
   "cell_type": "code",
   "execution_count": 6,
   "id": "095b0ef2",
   "metadata": {},
   "outputs": [],
   "source": [
    "target = num[['compra']].copy().reset_index(drop=True)"
   ]
  },
  {
   "cell_type": "code",
   "execution_count": 7,
   "id": "c7d82dd0-be35-4afe-8588-b3bab1ab4ede",
   "metadata": {},
   "outputs": [
    {
     "data": {
      "text/plain": [
       "visitas_total\n",
       "2     1042\n",
       "3      926\n",
       "4      747\n",
       "5      506\n",
       "0      364\n",
       "6      303\n",
       "1      194\n",
       "7      185\n",
       "8      138\n",
       "9       98\n",
       "10      74\n",
       "11      61\n",
       "12      32\n",
       "13      29\n",
       "14      25\n",
       "16      15\n",
       "18      10\n",
       "17       9\n",
       "15       9\n",
       "20       6\n",
       "23       5\n",
       "27       4\n",
       "25       4\n",
       "21       4\n",
       "19       3\n",
       "24       3\n",
       "29       2\n",
       "26       2\n",
       "50       2\n",
       "22       2\n",
       "43       1\n",
       "28       1\n",
       "Name: count, dtype: Int64"
      ]
     },
     "execution_count": 7,
     "metadata": {},
     "output_type": "execute_result"
    }
   ],
   "source": [
    "num.visitas_total.value_counts()"
   ]
  },
  {
   "cell_type": "markdown",
   "id": "9790d322",
   "metadata": {},
   "source": [
    "## TRANSFORMACIÓN DE CATEGÓRICAS"
   ]
  },
  {
   "cell_type": "markdown",
   "id": "f1fa5201",
   "metadata": {},
   "source": [
    "### One Hot Encoding"
   ]
  },
  {
   "cell_type": "markdown",
   "id": "da9b786a",
   "metadata": {},
   "source": [
    "#### Variables a aplicar OHE"
   ]
  },
  {
   "cell_type": "code",
   "execution_count": 8,
   "id": "6e36cf47",
   "metadata": {},
   "outputs": [],
   "source": [
    "var_ohe = ['origen','fuente','ult_actividad','ambito','ocupacion','descarga_lm']"
   ]
  },
  {
   "cell_type": "markdown",
   "id": "db8d4634",
   "metadata": {},
   "source": [
    "#### Instanciar"
   ]
  },
  {
   "cell_type": "code",
   "execution_count": 9,
   "id": "e75c2ee4",
   "metadata": {},
   "outputs": [],
   "source": [
    "ohe = OneHotEncoder(sparse_output=False, handle_unknown='ignore')"
   ]
  },
  {
   "cell_type": "markdown",
   "id": "26c9f58f",
   "metadata": {},
   "source": [
    "#### Entrenar y aplicar"
   ]
  },
  {
   "cell_type": "code",
   "execution_count": 10,
   "id": "4162d5a7",
   "metadata": {},
   "outputs": [],
   "source": [
    "cat_ohe = ohe.fit_transform(cat[var_ohe])"
   ]
  },
  {
   "cell_type": "markdown",
   "id": "c9131f15",
   "metadata": {},
   "source": [
    "#### Guardar como dataframe"
   ]
  },
  {
   "cell_type": "code",
   "execution_count": 11,
   "id": "783255d7",
   "metadata": {},
   "outputs": [],
   "source": [
    "cat_ohe = pd.DataFrame(cat_ohe, columns = ohe.get_feature_names_out())"
   ]
  },
  {
   "cell_type": "markdown",
   "id": "87434e0c",
   "metadata": {},
   "source": [
    "## UNIFICAR DATASETS TRANSFORMADOS"
   ]
  },
  {
   "cell_type": "markdown",
   "id": "6d638486",
   "metadata": {},
   "source": [
    "### Meter en una lista todos los dataframes generados"
   ]
  },
  {
   "cell_type": "code",
   "execution_count": 12,
   "id": "f8392a2e-ed46-4c03-b59b-bba40e63a049",
   "metadata": {},
   "outputs": [],
   "source": [
    "df=pd.concat([cat_ohe,num], axis=1)"
   ]
  },
  {
   "cell_type": "markdown",
   "id": "5f9ffae2",
   "metadata": {},
   "source": [
    "## REESCALAR VARIABLES"
   ]
  },
  {
   "cell_type": "markdown",
   "id": "fbc62831",
   "metadata": {},
   "source": [
    "### Con Min-Max"
   ]
  },
  {
   "cell_type": "code",
   "execution_count": 13,
   "id": "c35ea0a2",
   "metadata": {},
   "outputs": [
    {
     "name": "stdout",
     "output_type": "stream",
     "text": [
      "<class 'pandas.core.frame.DataFrame'>\n",
      "RangeIndex: 4806 entries, 0 to 4805\n",
      "Data columns (total 44 columns):\n",
      " #   Column                                    Non-Null Count  Dtype  \n",
      "---  ------                                    --------------  -----  \n",
      " 0   origen_API                                4806 non-null   float64\n",
      " 1   origen_Landing Page Submission            4806 non-null   float64\n",
      " 2   origen_Lead Add Form                      4806 non-null   float64\n",
      " 3   origen_OTROS                              4806 non-null   float64\n",
      " 4   fuente_Chat                               4806 non-null   float64\n",
      " 5   fuente_Direct Traffic                     4806 non-null   float64\n",
      " 6   fuente_Google                             4806 non-null   float64\n",
      " 7   fuente_OTROS                              4806 non-null   float64\n",
      " 8   fuente_Organic Search                     4806 non-null   float64\n",
      " 9   fuente_Reference                          4806 non-null   float64\n",
      " 10  ult_actividad_Chat Conversation           4806 non-null   float64\n",
      " 11  ult_actividad_Converted to Lead           4806 non-null   float64\n",
      " 12  ult_actividad_Email Link Clicked          4806 non-null   float64\n",
      " 13  ult_actividad_Email Opened                4806 non-null   float64\n",
      " 14  ult_actividad_OTROS                       4806 non-null   float64\n",
      " 15  ult_actividad_Page Visited on Website     4806 non-null   float64\n",
      " 16  ult_actividad_SMS Sent                    4806 non-null   float64\n",
      " 17  ambito_Banking, Investment And Insurance  4806 non-null   float64\n",
      " 18  ambito_Business Administration            4806 non-null   float64\n",
      " 19  ambito_Finance Management                 4806 non-null   float64\n",
      " 20  ambito_Healthcare Management              4806 non-null   float64\n",
      " 21  ambito_Human Resource Management          4806 non-null   float64\n",
      " 22  ambito_IT Projects Management             4806 non-null   float64\n",
      " 23  ambito_International Business             4806 non-null   float64\n",
      " 24  ambito_Marketing Management               4806 non-null   float64\n",
      " 25  ambito_Media and Advertising              4806 non-null   float64\n",
      " 26  ambito_OTROS                              4806 non-null   float64\n",
      " 27  ambito_Operations Management              4806 non-null   float64\n",
      " 28  ambito_Select                             4806 non-null   float64\n",
      " 29  ambito_Supply Chain Management            4806 non-null   float64\n",
      " 30  ambito_Travel and Tourism                 4806 non-null   float64\n",
      " 31  ocupacion_OTROS                           4806 non-null   float64\n",
      " 32  ocupacion_Student                         4806 non-null   float64\n",
      " 33  ocupacion_Unemployed                      4806 non-null   float64\n",
      " 34  ocupacion_Working Professional            4806 non-null   float64\n",
      " 35  descarga_lm_No                            4806 non-null   float64\n",
      " 36  descarga_lm_Yes                           4806 non-null   float64\n",
      " 37  id                                        4806 non-null   int64  \n",
      " 38  compra                                    4806 non-null   int64  \n",
      " 39  visitas_total                             4806 non-null   Int64  \n",
      " 40  tiempo_en_site_total                      4806 non-null   int64  \n",
      " 41  paginas_vistas_visita                     4806 non-null   float64\n",
      " 42  score_actividad                           4806 non-null   float64\n",
      " 43  score_perfil                              4806 non-null   float64\n",
      "dtypes: Int64(1), float64(40), int64(3)\n",
      "memory usage: 1.6 MB\n"
     ]
    }
   ],
   "source": [
    "df.info()"
   ]
  },
  {
   "cell_type": "markdown",
   "id": "de92d3fe",
   "metadata": {},
   "source": [
    "#### Variables a reescalar con Min-Max"
   ]
  },
  {
   "cell_type": "code",
   "execution_count": 14,
   "id": "4c9e40ba",
   "metadata": {},
   "outputs": [],
   "source": [
    "var_mms = df.iloc[:,39:].columns"
   ]
  },
  {
   "cell_type": "markdown",
   "id": "b0b18ca7",
   "metadata": {},
   "source": [
    "#### Instanciar"
   ]
  },
  {
   "cell_type": "code",
   "execution_count": 15,
   "id": "44a71f10",
   "metadata": {},
   "outputs": [],
   "source": [
    "mms = MinMaxScaler()"
   ]
  },
  {
   "cell_type": "markdown",
   "id": "57f8f537",
   "metadata": {},
   "source": [
    "#### Entrenar y aplicar"
   ]
  },
  {
   "cell_type": "code",
   "execution_count": 16,
   "id": "b45d4fa8",
   "metadata": {},
   "outputs": [],
   "source": [
    "df_mms = mms.fit_transform(df[var_mms])"
   ]
  },
  {
   "cell_type": "markdown",
   "id": "aea83d81",
   "metadata": {},
   "source": [
    "#### Guardar como dataframe"
   ]
  },
  {
   "cell_type": "code",
   "execution_count": 17,
   "id": "d5ba3f86",
   "metadata": {},
   "outputs": [],
   "source": [
    "#Añadir sufijos a los nombres\n",
    "nombres_mms = [variable + '_mms' for variable in var_mms]\n",
    "\n",
    "#Guardar como dataframe\n",
    "df_mms = pd.DataFrame(df_mms,columns = nombres_mms)"
   ]
  },
  {
   "cell_type": "markdown",
   "id": "118dac36",
   "metadata": {},
   "source": [
    "## UNIFICAR DATASETS REESCALADOS"
   ]
  },
  {
   "cell_type": "markdown",
   "id": "e301d458",
   "metadata": {},
   "source": [
    "### Crear una lista con los dataframes a incluir en el tablón analítico"
   ]
  },
  {
   "cell_type": "code",
   "execution_count": 18,
   "id": "4e51c41f",
   "metadata": {},
   "outputs": [],
   "source": [
    "incluir = [df.id,cat_ohe, df_mms,target]"
   ]
  },
  {
   "cell_type": "markdown",
   "id": "4412d913",
   "metadata": {},
   "source": [
    "### Unir todos los dataframes en el tablón analítico"
   ]
  },
  {
   "cell_type": "code",
   "execution_count": 19,
   "id": "bbacffcc",
   "metadata": {},
   "outputs": [],
   "source": [
    "df_tablon = pd.concat(incluir, axis = 1)"
   ]
  },
  {
   "cell_type": "markdown",
   "id": "9f098f8a",
   "metadata": {},
   "source": [
    "## GUARDAR DATASET TRAS TRANSFORMACIÓN DE DATOS"
   ]
  },
  {
   "cell_type": "markdown",
   "id": "7656ba95",
   "metadata": {},
   "source": [
    "En formato pickle para no perder las modificaciones de metadatos."
   ]
  },
  {
   "cell_type": "code",
   "execution_count": 20,
   "id": "782bf43c",
   "metadata": {},
   "outputs": [],
   "source": [
    "#Definir los nombres del archivo\n",
    "ruta_df_tablon =  '../../02_Datos/03_Trabajo/' + 'df_tablon.pickle'"
   ]
  },
  {
   "cell_type": "code",
   "execution_count": 21,
   "id": "44c7dd60",
   "metadata": {},
   "outputs": [],
   "source": [
    "#Guardar los archivos\n",
    "df_tablon.to_pickle(ruta_df_tablon)"
   ]
  }
 ],
 "metadata": {
  "hide_input": false,
  "kernelspec": {
   "display_name": "Python 3 (ipykernel)",
   "language": "python",
   "name": "python3"
  },
  "language_info": {
   "codemirror_mode": {
    "name": "ipython",
    "version": 3
   },
   "file_extension": ".py",
   "mimetype": "text/x-python",
   "name": "python",
   "nbconvert_exporter": "python",
   "pygments_lexer": "ipython3",
   "version": "3.12.3"
  },
  "toc": {
   "base_numbering": 1,
   "nav_menu": {},
   "number_sections": true,
   "sideBar": true,
   "skip_h1_title": false,
   "title_cell": "Table of Contents",
   "title_sidebar": "Contents",
   "toc_cell": false,
   "toc_position": {
    "height": "calc(100% - 180px)",
    "left": "10px",
    "top": "150px",
    "width": "346.95px"
   },
   "toc_section_display": true,
   "toc_window_display": true
  },
  "varInspector": {
   "cols": {
    "lenName": 16,
    "lenType": 16,
    "lenVar": 40
   },
   "kernels_config": {
    "python": {
     "delete_cmd_postfix": "",
     "delete_cmd_prefix": "del ",
     "library": "var_list.py",
     "varRefreshCmd": "print(var_dic_list())"
    },
    "r": {
     "delete_cmd_postfix": ") ",
     "delete_cmd_prefix": "rm(",
     "library": "var_list.r",
     "varRefreshCmd": "cat(var_dic_list()) "
    }
   },
   "position": {
    "height": "546.85px",
    "left": "890.75px",
    "right": "20px",
    "top": "117px",
    "width": "350px"
   },
   "types_to_exclude": [
    "module",
    "function",
    "builtin_function_or_method",
    "instance",
    "_Feature"
   ],
   "window_display": false
  }
 },
 "nbformat": 4,
 "nbformat_minor": 5
}
